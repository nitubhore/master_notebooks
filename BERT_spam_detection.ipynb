{
 "cells": [
  {
   "cell_type": "raw",
   "id": "36b10b0f",
   "metadata": {},
   "source": [
    "!pip install spacy numpy pandas scikit-learn tensorflow tensorflow_hub tensorflow_text matplotlib seaborn --user"
   ]
  },
  {
   "cell_type": "code",
   "execution_count": null,
   "id": "b37dc782",
   "metadata": {},
   "outputs": [],
   "source": []
  },
  {
   "cell_type": "code",
   "execution_count": null,
   "id": "ba4a4ddd",
   "metadata": {},
   "outputs": [],
   "source": [
    "@@@"
   ]
  },
  {
   "cell_type": "code",
   "execution_count": 1,
   "id": "6870576e",
   "metadata": {},
   "outputs": [],
   "source": [
    "## ! pip install tensorflow_text\n",
    "\n",
    "\"\"\"Import library\"\"\"\n",
    "import numpy as np\n",
    "import pandas as pd # pylint: disable=unused-import\n",
    "from sklearn.model_selection import train_test_split\n",
    "import tensorflow as tf\n",
    "import tensorflow_hub as hub # pylint: disable=unused-import\n",
    "import tensorflow_text as text # pylint: disable=unused-import\n",
    "from sklearn.metrics import classification_report  # pylint: disable=ungrouped-imports\n",
    "from sklearn.metrics import confusion_matrix\n",
    "from matplotlib import pyplot as plt\n",
    "import seaborn as sn\n",
    "\n",
    "\"\"\"\n",
    "Blueprint of Bidirectional Encoder Representations from Transformers.\n",
    "BERT is a transformer-based machine learning technique for natural\n",
    "language processing.\n",
    "Args:\n",
    "  bert_preprocess : preprocess URL link\n",
    "  bert_encoder : encoder URL link\n",
    "  df_balanced : dataframe name\n",
    "  text_column : text column name\n",
    "  label_column : target column name\n",
    "  epochs : number of epochs\n",
    "  path : location to save the model\n",
    "Returns:\n",
    "  model : BERT model\n",
    "\"\"\"  # pylint: disable=pointless-string-statement\n",
    "class BERT():\n",
    "    \"\"\"BERT is blueprint to train the BERT model\"\"\"\n",
    "    def __init__(self, bert_preprocess, bert_encoder, df_balanced, text_column, label_column, epochs, path):  # pylint: disable=too-many-arguments, disable=line-too-long\n",
    "        \"\"\"Inits the BERT\"\"\"\n",
    "        self.bert_preprocess = bert_preprocess\n",
    "        self.bert_encoder = bert_encoder\n",
    "        self.df_balanced = df_balanced\n",
    "        self.text_column = text_column\n",
    "        self.label_column = label_column\n",
    "        self.epochs = epochs\n",
    "        self.path = path\n",
    "\n",
    "    def func_bert(self, bert_preprocess, bert_encoder, df_balanced, text_column, label_column, epochs, path): # pylint: disable=too-many-arguments,  disable=line-too-long,  disable=too-many-locals\n",
    "        \"\"\"Perform the Bidirectional Encoder Representations from Transformers\"\"\"\n",
    "\n",
    "        # Split it into training and test data set\n",
    "        X_train, X_test, y_train, y_test = train_test_split(df_balanced[text_column], df_balanced[label_column], stratify=df_balanced[label_column]) # pylint: disable=invalid-name, disable=line-too-long\n",
    "\n",
    "        # Bert layers\n",
    "        text_input = tf.keras.layers.Input(shape=(), dtype=tf.string, name='text')\n",
    "        preprocessed_text = bert_preprocess(text_input)\n",
    "        outputs = bert_encoder(preprocessed_text)\n",
    "\n",
    "        # Neural network layers\n",
    "        lay = tf.keras.layers.Dense(64, activation='relu', name=\"dense1\")(outputs['pooled_output'])\n",
    "        lay = tf.keras.layers.Dropout(0.2, name=\"dropout1\")(lay)\n",
    "        lay = tf.keras.layers.Dense(32, activation='relu', name=\"dense2\")(lay)\n",
    "        lay = tf.keras.layers.Dropout(0.2, name=\"dropout\")(lay)\n",
    "        lay = tf.keras.layers.Dense(1, activation='sigmoid', name=\"output2\")(lay)\n",
    "\n",
    "        # Use inputs and outputs to construct a final model\n",
    "        model = tf.keras.Model(inputs=[text_input], outputs=[lay])\n",
    "\n",
    "        # print summary\n",
    "        model.summary()\n",
    "        model.compile(optimizer='adam', loss='binary_crossentropy', metrics=['accuracy'])\n",
    "        # train the model\n",
    "        model.fit(X_train, y_train, epochs=epochs, )\n",
    "\n",
    "        y_predicted = model.predict(X_test)\n",
    "        y_predicted = y_predicted.flatten()\n",
    "        y_predicted = np.where(y_predicted > 0.5, 1, 0)\n",
    "\n",
    "        print(classification_report(y_test, y_predicted))\n",
    "        cm = confusion_matrix(y_test, y_predicted)  # pylint: disable=invalid-name\n",
    "        sn.heatmap(cm, annot=True, fmt='d')\n",
    "        plt.xlabel('Predicted')\n",
    "        plt.ylabel('Truth')\n",
    "\n",
    "        # save model\n",
    "        model.save(path)\n",
    "        print(\"\\n Model saved on location: \", path)\n",
    "\n",
    "        return model\n",
    "\n",
    "    def run_all(self):\n",
    "        \"\"\"Run all the methods as per the requirements\"\"\"\n",
    "        model = self.func_bert(self.bert_preprocess, self.bert_encoder, self.df_balanced, self.text_column, self.label_column, self.epochs, self.path)  # pylint: disable=line-too-long\n",
    "        return model"
   ]
  },
  {
   "cell_type": "code",
   "execution_count": 13,
   "id": "d6b6a694",
   "metadata": {},
   "outputs": [
    {
     "name": "stdout",
     "output_type": "stream",
     "text": [
      "Model: \"model_1\"\n",
      "__________________________________________________________________________________________________\n",
      " Layer (type)                   Output Shape         Param #     Connected to                     \n",
      "==================================================================================================\n",
      " text (InputLayer)              [(None,)]            0           []                               \n",
      "                                                                                                  \n",
      " keras_layer_4 (KerasLayer)     {'input_word_ids':   0           ['text[0][0]']                   \n",
      "                                (None, 128),                                                      \n",
      "                                 'input_type_ids':                                                \n",
      "                                (None, 128),                                                      \n",
      "                                 'input_mask': (Non                                               \n",
      "                                e, 128)}                                                          \n",
      "                                                                                                  \n",
      " keras_layer_5 (KerasLayer)     {'encoder_outputs':  11683584    ['keras_layer_4[0][0]',          \n",
      "                                 [(None, 128, 768),               'keras_layer_4[0][1]',          \n",
      "                                 (None, 128, 768),                'keras_layer_4[0][2]']          \n",
      "                                 (None, 128, 768),                                                \n",
      "                                 (None, 128, 768),                                                \n",
      "                                 (None, 128, 768),                                                \n",
      "                                 (None, 128, 768),                                                \n",
      "                                 (None, 128, 768),                                                \n",
      "                                 (None, 128, 768),                                                \n",
      "                                 (None, 128, 768),                                                \n",
      "                                 (None, 128, 768),                                                \n",
      "                                 (None, 128, 768),                                                \n",
      "                                 (None, 128, 768)],                                               \n",
      "                                 'pooled_output': (                                               \n",
      "                                None, 768),                                                       \n",
      "                                 'default': (None,                                                \n",
      "                                768),                                                             \n",
      "                                 'sequence_output':                                               \n",
      "                                 (None, 128, 768)}                                                \n",
      "                                                                                                  \n",
      " dense1 (Dense)                 (None, 64)           49216       ['keras_layer_5[0][13]']         \n",
      "                                                                                                  \n",
      " dropout1 (Dropout)             (None, 64)           0           ['dense1[0][0]']                 \n",
      "                                                                                                  \n",
      " dense2 (Dense)                 (None, 32)           2080        ['dropout1[0][0]']               \n",
      "                                                                                                  \n",
      " dropout (Dropout)              (None, 32)           0           ['dense2[0][0]']                 \n",
      "                                                                                                  \n",
      " output2 (Dense)                (None, 1)            33          ['dropout[0][0]']                \n",
      "                                                                                                  \n",
      "==================================================================================================\n",
      "Total params: 11,734,913\n",
      "Trainable params: 51,329\n",
      "Non-trainable params: 11,683,584\n",
      "__________________________________________________________________________________________________\n",
      "Epoch 1/10\n",
      "131/131 [==============================] - 83s 578ms/step - loss: 0.2575 - accuracy: 0.8988\n",
      "Epoch 2/10\n",
      "131/131 [==============================] - 95s 725ms/step - loss: 0.1168 - accuracy: 0.9608\n",
      "Epoch 3/10\n",
      "131/131 [==============================] - 111s 851ms/step - loss: 0.0946 - accuracy: 0.9698\n",
      "Epoch 4/10\n",
      "131/131 [==============================] - 113s 861ms/step - loss: 0.0816 - accuracy: 0.9746\n",
      "Epoch 5/10\n",
      "131/131 [==============================] - 113s 862ms/step - loss: 0.0765 - accuracy: 0.9801\n",
      "Epoch 6/10\n",
      "131/131 [==============================] - 112s 858ms/step - loss: 0.0778 - accuracy: 0.9751\n",
      "Epoch 7/10\n",
      "131/131 [==============================] - 113s 863ms/step - loss: 0.0791 - accuracy: 0.9777\n",
      "Epoch 8/10\n",
      "131/131 [==============================] - 113s 865ms/step - loss: 0.0706 - accuracy: 0.9792\n",
      "Epoch 9/10\n",
      "131/131 [==============================] - 115s 879ms/step - loss: 0.0654 - accuracy: 0.9775\n",
      "Epoch 10/10\n",
      "131/131 [==============================] - 114s 869ms/step - loss: 0.0684 - accuracy: 0.9782\n",
      "44/44 [==============================] - 37s 848ms/step\n",
      "              precision    recall  f1-score   support\n",
      "\n",
      "           0       0.99      0.98      0.99      1206\n",
      "           1       0.90      0.93      0.92       187\n",
      "\n",
      "    accuracy                           0.98      1393\n",
      "   macro avg       0.95      0.96      0.95      1393\n",
      "weighted avg       0.98      0.98      0.98      1393\n",
      "\n"
     ]
    },
    {
     "name": "stderr",
     "output_type": "stream",
     "text": [
      "WARNING:absl:Found untraced functions such as restored_function_body, restored_function_body, restored_function_body, restored_function_body, restored_function_body while saving (showing 5 of 36). These functions will not be directly callable after loading.\n"
     ]
    },
    {
     "name": "stdout",
     "output_type": "stream",
     "text": [
      "INFO:tensorflow:Assets written to: C:\\Users\\Nitin\\Downloads\\spam_detection\\model\\assets\n"
     ]
    },
    {
     "name": "stderr",
     "output_type": "stream",
     "text": [
      "INFO:tensorflow:Assets written to: C:\\Users\\Nitin\\Downloads\\spam_detection\\model\\assets\n"
     ]
    },
    {
     "name": "stdout",
     "output_type": "stream",
     "text": [
      "\n",
      " Model saved on location:  C:\\Users\\Nitin\\Downloads\\spam_detection\\model\n"
     ]
    },
    {
     "data": {
      "image/png": "[encoded data removed]",
      "text/plain": [
       "<Figure size 640x480 with 2 Axes>"
      ]
     },
     "metadata": {},
     "output_type": "display_data"
    }
   ],
   "source": [
    "# #import BERT model\n",
    "bert_preprocess = hub.KerasLayer(\"https://tfhub.dev/tensorflow/bert_en_uncased_preprocess/3\")\n",
    "bert_encoder = hub.KerasLayer(\"https://tfhub.dev/tensorflow/bert_en_uncased_L-12_H-768_A-12/4\")\n",
    "\n",
    "# # #import ALBERT - A Lite BERT model\n",
    "# # bert_preprocess = hub.KerasLayer(\"http://tfhub.dev/tensorflow/albert_en_preprocess/3\")\n",
    "# # bert_encoder = hub.KerasLayer(\"https://tfhub.dev/tensorflow/albert_en_base/3\")\n",
    "\n",
    "# # #import RoBERTa - Robustly Optimized BERT Pretraining Approach\n",
    "# # bert_preprocess = hub.KerasLayer(\"https://tfhub.dev/jeongukjae/xlm_roberta_multi_cased_preprocess/1\")\n",
    "# # bert_encoder = hub.KerasLayer(\"https://tfhub.dev/jeongukjae/xlm_roberta_multi_cased_L-12_H-768_A-12/1\")\n",
    "\n",
    "import numpy as np\n",
    "import pandas as pd\n",
    "\n",
    "path = r\"C:\\Users\\Nitin\\Downloads\\spam_detection\\model\"\n",
    "\n",
    "df = pd.read_csv(\"Email Spam.csv\")\n",
    "df.head()\n",
    "\n",
    "df_balanced = df[['Category','Message']]\n",
    "df_balanced['spam']=df_balanced['Category'].apply(lambda x: 1 if x=='spam' else 0)\n",
    "df_balanced.head()\n",
    "# df['labels'].value_counts(normalize=True) * 100\n",
    "\n",
    "# # #class Bert \n",
    "bertExe = BERT(bert_preprocess,  bert_encoder, df_balanced, 'Message', 'spam', 10, path)\n",
    "model = bertExe.run_all()"
   ]
  },
  {
   "cell_type": "code",
   "execution_count": 16,
   "id": "76715b3c",
   "metadata": {},
   "outputs": [],
   "source": [
    "from keras.models import load_model\n",
    "\n",
    "model = load_model(path)"
   ]
  },
  {
   "cell_type": "code",
   "execution_count": 22,
   "id": "af5521f8",
   "metadata": {},
   "outputs": [
    {
     "name": "stdout",
     "output_type": "stream",
     "text": [
      "1/1 [==============================] - 0s 68ms/step\n"
     ]
    },
    {
     "data": {
      "text/plain": [
       "array([['Spam']], dtype='<U4')"
      ]
     },
     "execution_count": 22,
     "metadata": {},
     "output_type": "execute_result"
    }
   ],
   "source": [
    "y_predicted = model.predict([\"Ok lar... Joking wif u oni...\"])\n",
    "y_predicted = np.where(y_predicted > 0.5, 'Ham', 'Spam')\n",
    "y_predicted"
   ]
  },
  {
   "cell_type": "code",
   "execution_count": null,
   "id": "72391311",
   "metadata": {},
   "outputs": [],
   "source": [
    "text_input = tf.keras.layers.Input(shape=(), dtype=tf.string, name='text')\n",
    "        preprocessed_text = bert_preprocess(text_input)"
   ]
  },
  {
   "cell_type": "code",
   "execution_count": 23,
   "id": "416156ba",
   "metadata": {},
   "outputs": [
    {
     "data": {
      "text/html": [
       "<div>\n",
       "<style scoped>\n",
       "    .dataframe tbody tr th:only-of-type {\n",
       "        vertical-align: middle;\n",
       "    }\n",
       "\n",
       "    .dataframe tbody tr th {\n",
       "        vertical-align: top;\n",
       "    }\n",
       "\n",
       "    .dataframe thead th {\n",
       "        text-align: right;\n",
       "    }\n",
       "</style>\n",
       "<table border=\"1\" class=\"dataframe\">\n",
       "  <thead>\n",
       "    <tr style=\"text-align: right;\">\n",
       "      <th></th>\n",
       "      <th>Category</th>\n",
       "      <th>Message</th>\n",
       "    </tr>\n",
       "  </thead>\n",
       "  <tbody>\n",
       "    <tr>\n",
       "      <th>0</th>\n",
       "      <td>ham</td>\n",
       "      <td>Go until jurong point, crazy.. Available only ...</td>\n",
       "    </tr>\n",
       "    <tr>\n",
       "      <th>1</th>\n",
       "      <td>ham</td>\n",
       "      <td>Ok lar... Joking wif u oni...</td>\n",
       "    </tr>\n",
       "    <tr>\n",
       "      <th>2</th>\n",
       "      <td>spam</td>\n",
       "      <td>Free entry in 2 a wkly comp to win FA Cup fina...</td>\n",
       "    </tr>\n",
       "    <tr>\n",
       "      <th>3</th>\n",
       "      <td>ham</td>\n",
       "      <td>U dun say so early hor... U c already then say...</td>\n",
       "    </tr>\n",
       "    <tr>\n",
       "      <th>4</th>\n",
       "      <td>ham</td>\n",
       "      <td>Nah I don't think he goes to usf, he lives aro...</td>\n",
       "    </tr>\n",
       "  </tbody>\n",
       "</table>\n",
       "</div>"
      ],
      "text/plain": [
       "  Category                                            Message\n",
       "0      ham  Go until jurong point, crazy.. Available only ...\n",
       "1      ham                      Ok lar... Joking wif u oni...\n",
       "2     spam  Free entry in 2 a wkly comp to win FA Cup fina...\n",
       "3      ham  U dun say so early hor... U c already then say...\n",
       "4      ham  Nah I don't think he goes to usf, he lives aro..."
      ]
     },
     "execution_count": 23,
     "metadata": {},
     "output_type": "execute_result"
    }
   ],
   "source": [
    "df = pd.read_csv(\"Email Spam.csv\")\n",
    "df.head()"
   ]
  },
  {
   "cell_type": "code",
   "execution_count": 24,
   "id": "525e4f22",
   "metadata": {},
   "outputs": [
    {
     "data": {
      "text/html": [
       "<div>\n",
       "<style scoped>\n",
       "    .dataframe tbody tr th:only-of-type {\n",
       "        vertical-align: middle;\n",
       "    }\n",
       "\n",
       "    .dataframe tbody tr th {\n",
       "        vertical-align: top;\n",
       "    }\n",
       "\n",
       "    .dataframe thead th {\n",
       "        text-align: right;\n",
       "    }\n",
       "</style>\n",
       "<table border=\"1\" class=\"dataframe\">\n",
       "  <thead>\n",
       "    <tr style=\"text-align: right;\">\n",
       "      <th></th>\n",
       "      <th>Category</th>\n",
       "      <th>Message</th>\n",
       "      <th>spam</th>\n",
       "    </tr>\n",
       "  </thead>\n",
       "  <tbody>\n",
       "    <tr>\n",
       "      <th>0</th>\n",
       "      <td>ham</td>\n",
       "      <td>Go until jurong point, crazy.. Available only ...</td>\n",
       "      <td>0</td>\n",
       "    </tr>\n",
       "    <tr>\n",
       "      <th>1</th>\n",
       "      <td>ham</td>\n",
       "      <td>Ok lar... Joking wif u oni...</td>\n",
       "      <td>0</td>\n",
       "    </tr>\n",
       "    <tr>\n",
       "      <th>2</th>\n",
       "      <td>spam</td>\n",
       "      <td>Free entry in 2 a wkly comp to win FA Cup fina...</td>\n",
       "      <td>1</td>\n",
       "    </tr>\n",
       "    <tr>\n",
       "      <th>3</th>\n",
       "      <td>ham</td>\n",
       "      <td>U dun say so early hor... U c already then say...</td>\n",
       "      <td>0</td>\n",
       "    </tr>\n",
       "    <tr>\n",
       "      <th>4</th>\n",
       "      <td>ham</td>\n",
       "      <td>Nah I don't think he goes to usf, he lives aro...</td>\n",
       "      <td>0</td>\n",
       "    </tr>\n",
       "    <tr>\n",
       "      <th>...</th>\n",
       "      <td>...</td>\n",
       "      <td>...</td>\n",
       "      <td>...</td>\n",
       "    </tr>\n",
       "    <tr>\n",
       "      <th>5567</th>\n",
       "      <td>spam</td>\n",
       "      <td>This is the 2nd time we have tried 2 contact u...</td>\n",
       "      <td>1</td>\n",
       "    </tr>\n",
       "    <tr>\n",
       "      <th>5568</th>\n",
       "      <td>ham</td>\n",
       "      <td>Will ü b going to esplanade fr home?</td>\n",
       "      <td>0</td>\n",
       "    </tr>\n",
       "    <tr>\n",
       "      <th>5569</th>\n",
       "      <td>ham</td>\n",
       "      <td>Pity, * was in mood for that. So...any other s...</td>\n",
       "      <td>0</td>\n",
       "    </tr>\n",
       "    <tr>\n",
       "      <th>5570</th>\n",
       "      <td>ham</td>\n",
       "      <td>The guy did some bitching but I acted like i'd...</td>\n",
       "      <td>0</td>\n",
       "    </tr>\n",
       "    <tr>\n",
       "      <th>5571</th>\n",
       "      <td>ham</td>\n",
       "      <td>Rofl. Its true to its name</td>\n",
       "      <td>0</td>\n",
       "    </tr>\n",
       "  </tbody>\n",
       "</table>\n",
       "<p>5572 rows × 3 columns</p>\n",
       "</div>"
      ],
      "text/plain": [
       "     Category                                            Message  spam\n",
       "0         ham  Go until jurong point, crazy.. Available only ...     0\n",
       "1         ham                      Ok lar... Joking wif u oni...     0\n",
       "2        spam  Free entry in 2 a wkly comp to win FA Cup fina...     1\n",
       "3         ham  U dun say so early hor... U c already then say...     0\n",
       "4         ham  Nah I don't think he goes to usf, he lives aro...     0\n",
       "...       ...                                                ...   ...\n",
       "5567     spam  This is the 2nd time we have tried 2 contact u...     1\n",
       "5568      ham               Will ü b going to esplanade fr home?     0\n",
       "5569      ham  Pity, * was in mood for that. So...any other s...     0\n",
       "5570      ham  The guy did some bitching but I acted like i'd...     0\n",
       "5571      ham                         Rofl. Its true to its name     0\n",
       "\n",
       "[5572 rows x 3 columns]"
      ]
     },
     "execution_count": 24,
     "metadata": {},
     "output_type": "execute_result"
    }
   ],
   "source": [
    "df_balanced = df[['Category','Message']]\n",
    "df_balanced['spam']=df_balanced['Category'].apply(lambda x: 1 if x=='spam' else 0)\n",
    "df_balanced"
   ]
  },
  {
   "cell_type": "code",
   "execution_count": 11,
   "id": "e3bc167e",
   "metadata": {},
   "outputs": [
    {
     "data": {
      "text/plain": [
       "Category\n",
       "ham     86.593683\n",
       "spam    13.406317\n",
       "Name: proportion, dtype: float64"
      ]
     },
     "execution_count": 11,
     "metadata": {},
     "output_type": "execute_result"
    }
   ],
   "source": [
    "df['Category'].value_counts(normalize=True) * 100\n"
   ]
  },
  {
   "cell_type": "code",
   "execution_count": 9,
   "id": "42120546",
   "metadata": {},
   "outputs": [
    {
     "data": {
      "text/plain": [
       "spam\n",
       "0    71.01141\n",
       "1    28.98859\n",
       "Name: proportion, dtype: float64"
      ]
     },
     "execution_count": 9,
     "metadata": {},
     "output_type": "execute_result"
    }
   ],
   "source": [
    "df_balanced['spam'].value_counts(normalize=True) * 100\n"
   ]
  },
  {
   "cell_type": "code",
   "execution_count": null,
   "id": "a418d557",
   "metadata": {},
   "outputs": [],
   "source": []
  }
 ],
 "metadata": {
  "kernelspec": {
   "display_name": "spam_env",
   "language": "python",
   "name": "spam_env"
  },
  "language_info": {
   "codemirror_mode": {
    "name": "ipython",
    "version": 3
   },
   "file_extension": ".py",
   "mimetype": "text/x-python",
   "name": "python",
   "nbconvert_exporter": "python",
   "pygments_lexer": "ipython3",
   "version": "3.8.16"
  }
 },
 "nbformat": 4,
 "nbformat_minor": 5
}
